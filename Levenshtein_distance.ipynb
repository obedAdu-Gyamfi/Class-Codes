{
 "cells": [
  {
   "cell_type": "markdown",
   "id": "f482893c",
   "metadata": {},
   "source": [
    "# LEVENSHTEIN DISTANCE\n",
    "    This program calculates the levenshtein distance between two words\n",
    "    The user is two type the two works, (seperated by space) and hit return (enter)\n",
    "    "
   ]
  },
  {
   "cell_type": "code",
   "execution_count": 1,
   "id": "523d1503",
   "metadata": {},
   "outputs": [
    {
     "name": "stdout",
     "output_type": "stream",
     "text": [
      "Enter two words to find LD: math hello\n",
      "LD:  5.0\n",
      "[[0. 1. 2. 3. 4. 5.]\n",
      " [1. 1. 2. 3. 4. 5.]\n",
      " [2. 2. 2. 3. 4. 5.]\n",
      " [3. 3. 3. 3. 4. 5.]\n",
      " [4. 3. 4. 4. 4. 5.]]\n"
     ]
    }
   ],
   "source": [
    "import numpy as np\n",
    "words = input(\"Enter two words to find LD: \")\n",
    "sp = words.split(\" \")\n",
    "splet1 = []\n",
    "splet2 = []\n",
    "for i in sp[0]:\n",
    "    splet1.append(i)\n",
    "for i in sp[1]:\n",
    "    splet2.append(i)\n",
    "m = len(splet1) + 1\n",
    "n = len(splet2) + 1\n",
    "A = np.zeros((m,n))\n",
    "i = 0\n",
    "for j in range(n):\n",
    "    A[0,j] = i\n",
    "    i += 1\n",
    "i = 0\n",
    "for j in range(m):\n",
    "    A[j,0] = i\n",
    "    i += 1\n",
    "for i in range(1,m ):\n",
    "    for j in range(1,n):\n",
    "        if splet1[i - 1] == splet2[j - 1]:\n",
    "             A[i,j] = min(A[i, j - 1], A[i - 1, j], A[i - 1, j - 1])\n",
    "        else:\n",
    "             A[i, j] = min(A[i, j - 1], A[i - 1, j], A[i - 1, j - 1]) + 1\n",
    "print(\"LD: \",A[i,j])\n",
    "print(A)\n",
    "#print(clause1)\n",
    "#print(clause2)"
   ]
  },
  {
   "cell_type": "code",
   "execution_count": null,
   "id": "fafb17ec",
   "metadata": {},
   "outputs": [],
   "source": []
  },
  {
   "cell_type": "markdown",
   "id": "700037b4",
   "metadata": {},
   "source": []
  },
  {
   "cell_type": "code",
   "execution_count": null,
   "id": "d6b690d5",
   "metadata": {},
   "outputs": [],
   "source": []
  },
  {
   "cell_type": "code",
   "execution_count": null,
   "id": "5f716ee3",
   "metadata": {},
   "outputs": [],
   "source": []
  },
  {
   "cell_type": "code",
   "execution_count": null,
   "id": "073481ee",
   "metadata": {},
   "outputs": [],
   "source": []
  },
  {
   "cell_type": "code",
   "execution_count": null,
   "id": "b7d8ca39",
   "metadata": {},
   "outputs": [],
   "source": []
  },
  {
   "cell_type": "code",
   "execution_count": null,
   "id": "c1d8b541",
   "metadata": {},
   "outputs": [],
   "source": []
  },
  {
   "cell_type": "code",
   "execution_count": null,
   "id": "65017d82",
   "metadata": {},
   "outputs": [],
   "source": []
  },
  {
   "cell_type": "code",
   "execution_count": null,
   "id": "5bba0844",
   "metadata": {},
   "outputs": [],
   "source": []
  },
  {
   "cell_type": "code",
   "execution_count": null,
   "id": "76167404",
   "metadata": {},
   "outputs": [],
   "source": []
  }
 ],
 "metadata": {
  "kernelspec": {
   "display_name": "Python 3 (ipykernel)",
   "language": "python",
   "name": "python3"
  },
  "language_info": {
   "codemirror_mode": {
    "name": "ipython",
    "version": 3
   },
   "file_extension": ".py",
   "mimetype": "text/x-python",
   "name": "python",
   "nbconvert_exporter": "python",
   "pygments_lexer": "ipython3",
   "version": "3.9.12"
  },
  "vscode": {
   "interpreter": {
    "hash": "2a8dfe095fce2b5e88c64a2c3ee084c8e0e0d70b23e7b95b1cfb538be294c5c8"
   }
  }
 },
 "nbformat": 4,
 "nbformat_minor": 5
}
